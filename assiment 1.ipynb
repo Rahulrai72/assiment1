{
 "cells": [
  {
   "cell_type": "code",
   "execution_count": 2,
   "id": "b514b093-68df-4027-9353-1e2bb7ef1125",
   "metadata": {},
   "outputs": [],
   "source": [
    "### Q1. Create one variable containing following type of data:\n",
    "\n",
    "### (i)\tstring\n",
    "\n",
    "###(ii)\tlist\n",
    "\n",
    "###(iii)\tfloat\n",
    "\n",
    "###(iv)\ttuple"
   ]
  },
  {
   "cell_type": "code",
   "execution_count": 3,
   "id": "f5b327e7-32e8-4ec7-9e8d-61b70abe5131",
   "metadata": {},
   "outputs": [],
   "source": [
    "a = [\"PW\", \"skill\", 3.14, (1, 2, 3,4,5)]\n"
   ]
  },
  {
   "cell_type": "code",
   "execution_count": 4,
   "id": "a0a6782e-4260-450e-b020-04f1ebc37b3a",
   "metadata": {},
   "outputs": [],
   "source": [
    "###Q2. Given are some following variables containing data:\n",
    " ### What will be the data type of the above given variable.\n",
    "\n",
    "### (i)\tvar1 = ‘ ‘\n",
    "\n",
    "## (ii)\tvar2 = ‘[ DS , ML , Python]’\n",
    "\n",
    "### (iii)\tvar3 = [ ‘DS’ , ’ML’ , ‘Python’ ]\n",
    "\n",
    "### (iv)\tvar4 = 1."
   ]
  },
  {
   "cell_type": "code",
   "execution_count": 5,
   "id": "72d2f672-1923-4557-8490-f8bfd0718f72",
   "metadata": {},
   "outputs": [],
   "source": [
    "### Ans var1 is a string\n",
    "### var2 is a string\n",
    "###  var3 is a list.\n",
    "###  var4 is a integer "
   ]
  },
  {
   "cell_type": "code",
   "execution_count": 6,
   "id": "f70ec274-24bb-4f7d-882b-3b9643ec4e5d",
   "metadata": {},
   "outputs": [],
   "source": [
    "### Q3. Explain the use of the following operators using an example:\n",
    "\n",
    "## (i)\t/\n",
    "\n",
    "### (ii)\t% \n",
    "\n",
    "### (iii)\t//\n",
    "\n",
    "### (iv)\t**"
   ]
  },
  {
   "cell_type": "code",
   "execution_count": 7,
   "id": "8a97630c-df57-456c-876f-df77df2b810b",
   "metadata": {},
   "outputs": [],
   "source": [
    "### Ans (i) (/) Division Operator "
   ]
  },
  {
   "cell_type": "code",
   "execution_count": 9,
   "id": "d8396575-a2da-49bd-8136-eb3d9eebf5e6",
   "metadata": {},
   "outputs": [],
   "source": [
    "x = 14\n",
    "y = 3\n",
    "z = x / y\n",
    "\n"
   ]
  },
  {
   "cell_type": "code",
   "execution_count": 10,
   "id": "71783771-f374-4750-a478-439b309f2d78",
   "metadata": {},
   "outputs": [
    {
     "name": "stdout",
     "output_type": "stream",
     "text": [
      "4.666666666666667\n"
     ]
    }
   ],
   "source": [
    "print(z)"
   ]
  },
  {
   "cell_type": "code",
   "execution_count": 11,
   "id": "b94fe398-ce79-46ae-ac13-0810581c0134",
   "metadata": {},
   "outputs": [],
   "source": [
    "## % (Modulus Operator)"
   ]
  },
  {
   "cell_type": "code",
   "execution_count": 12,
   "id": "e09b3a06-c313-4242-b420-d2f7ea1038fc",
   "metadata": {},
   "outputs": [],
   "source": [
    "x = 11\n",
    "y = 3\n",
    "z = x % y\n",
    "\n"
   ]
  },
  {
   "cell_type": "code",
   "execution_count": 13,
   "id": "0c468fcc-6d0c-410c-93e3-36b0a368f5c5",
   "metadata": {},
   "outputs": [
    {
     "name": "stdout",
     "output_type": "stream",
     "text": [
      "2\n"
     ]
    }
   ],
   "source": [
    "print(z)"
   ]
  },
  {
   "cell_type": "code",
   "execution_count": 14,
   "id": "b59dea1e-a063-46aa-8bd7-23a58ced4c20",
   "metadata": {},
   "outputs": [],
   "source": [
    "##     //  is Floor Division Operator"
   ]
  },
  {
   "cell_type": "code",
   "execution_count": 15,
   "id": "87766d72-738f-4ad5-a63e-8dd47d4b4e5a",
   "metadata": {},
   "outputs": [],
   "source": [
    "x = 16\n",
    "y = 5\n",
    "z = x // y\n",
    "\n"
   ]
  },
  {
   "cell_type": "code",
   "execution_count": 16,
   "id": "9c05110c-95fc-4123-b25c-d5745b346d9b",
   "metadata": {},
   "outputs": [
    {
     "name": "stdout",
     "output_type": "stream",
     "text": [
      "3\n"
     ]
    }
   ],
   "source": [
    "print (z)"
   ]
  },
  {
   "cell_type": "code",
   "execution_count": 17,
   "id": "0a89343f-6226-4da2-9fa6-e8585befff13",
   "metadata": {},
   "outputs": [],
   "source": [
    "## ** Exponentiation Operator"
   ]
  },
  {
   "cell_type": "code",
   "execution_count": 18,
   "id": "6bb1a467-cccf-4606-910c-fe46b70e44d5",
   "metadata": {},
   "outputs": [],
   "source": [
    "x = 6\n",
    "y = 7\n",
    "z = x ** y\n",
    "\n"
   ]
  },
  {
   "cell_type": "code",
   "execution_count": 19,
   "id": "3221b28e-655f-4a37-a572-83ac34dcf649",
   "metadata": {},
   "outputs": [
    {
     "name": "stdout",
     "output_type": "stream",
     "text": [
      "279936\n"
     ]
    }
   ],
   "source": [
    "print (z)"
   ]
  },
  {
   "cell_type": "code",
   "execution_count": 20,
   "id": "063f2d5a-b432-429f-afd6-febbe294d2cb",
   "metadata": {},
   "outputs": [],
   "source": [
    "## Q4. Create a list of length 10 of your choice containing multiple types of data. Using for loop print the \n",
    "## element and its data type."
   ]
  },
  {
   "cell_type": "code",
   "execution_count": 26,
   "id": "4c469e18-b972-4e7e-8d62-f493984c3a83",
   "metadata": {},
   "outputs": [
    {
     "name": "stdout",
     "output_type": "stream",
     "text": [
      "10 <class 'int'>\n",
      "Hello <class 'str'>\n",
      "3.14 <class 'float'>\n",
      "True <class 'bool'>\n",
      "[1, 2, 3, 4, 5, 6, 7] <class 'list'>\n",
      "{'name': 'ram', 'age': 25} <class 'dict'>\n",
      "None <class 'NoneType'>\n",
      "(4, 5, 6) <class 'tuple'>\n",
      "False <class 'bool'>\n",
      "pwskill <class 'str'>\n"
     ]
    }
   ],
   "source": [
    "list = [10, \"Hello\", 3.14, True, [1, 2, 3,4,5,6,7], {'name': 'ram', 'age': 25}, None, (4, 5, 6), False, \"pwskill\"]\n",
    "\n",
    "for i in list:\n",
    "    print(i, type(i))\n"
   ]
  },
  {
   "cell_type": "code",
   "execution_count": 27,
   "id": "65c22ff9-b38a-40b9-ba02-1980f0fd778b",
   "metadata": {},
   "outputs": [],
   "source": [
    "## Q5. Using a while loop, verify if the number A is purely divisible by number B and if so then how many \n",
    " ## times it can be divisible."
   ]
  },
  {
   "cell_type": "code",
   "execution_count": 28,
   "id": "58f00e4b-f32f-484c-8625-cad3b1f095d0",
   "metadata": {},
   "outputs": [],
   "source": [
    "A = 72\n",
    "B = 8\n",
    "count = 0\n",
    "\n",
    "while A % B == 0:\n",
    "    A = A / B\n",
    "    count += 1\n",
    "\n",
    "\n"
   ]
  },
  {
   "cell_type": "code",
   "execution_count": 29,
   "id": "d5539892-6ffb-4599-bec7-b8f8789f17c9",
   "metadata": {},
   "outputs": [],
   "source": [
    "## Q6. Create a list containing 25 int type data. Using for loop and if-else condition print if the element is \n",
    " ## divisible by 3 or not."
   ]
  },
  {
   "cell_type": "code",
   "execution_count": 35,
   "id": "03bf695e-c975-48a0-bded-448192f54e0d",
   "metadata": {},
   "outputs": [
    {
     "name": "stdout",
     "output_type": "stream",
     "text": [
      "4 is not divisible by 3\n",
      "8 is not divisible by 3\n",
      "9 is divisible by 3\n",
      "10 is not divisible by 3\n",
      "11 is not divisible by 3\n",
      "122 is not divisible by 3\n",
      "12 is divisible by 3\n",
      "14 is not divisible by 3\n",
      "15 is divisible by 3\n",
      "16 is not divisible by 3\n",
      "17 is not divisible by 3\n",
      "18 is divisible by 3\n",
      "19 is not divisible by 3\n",
      "20 is not divisible by 3\n",
      "21 is divisible by 3\n",
      "22 is not divisible by 3\n",
      "2223 is divisible by 3\n",
      "2224 is not divisible by 3\n",
      "2225 is not divisible by 3\n",
      "226 is not divisible by 3\n",
      "227 is not divisible by 3\n",
      "28 is not divisible by 3\n",
      "29 is not divisible by 3\n",
      "30 is divisible by 3\n",
      "33 is divisible by 3\n",
      "34 is not divisible by 3\n",
      "36 is divisible by 3\n",
      "67 is not divisible by 3\n",
      "78 is divisible by 3\n",
      "89 is not divisible by 3\n"
     ]
    }
   ],
   "source": [
    "list1  = [4, 8,9,10,11,122,12,14,15,16,17,18,19,20,21,22,2223,2224,2225,226,227,28,29,30,33,34,36,67,78,89]\n",
    "\n",
    "for num in list1 :\n",
    "    if num % 3 == 0:\n",
    "        print(num, \"is divisible by 3\")\n",
    "    else:\n",
    "        print(num, \"is not divisible by 3\")\n"
   ]
  },
  {
   "cell_type": "code",
   "execution_count": 36,
   "id": "2d76e165-22b0-4a96-94a2-b5541b1529c8",
   "metadata": {},
   "outputs": [],
   "source": [
    "##  Q7. What do you understand about mutable and immutable data types? Give examples for both showing"
   ]
  },
  {
   "cell_type": "code",
   "execution_count": 37,
   "id": "fe31a87a-2b85-46f6-963a-5ca66a9b1ecd",
   "metadata": {},
   "outputs": [],
   "source": [
    "## Immutable data types are those whose values cannot be modified after they are created. When an operation is performed on an immutable object, it usually returns a new object with the updated value, while the original object remains unchanged."
   ]
  },
  {
   "cell_type": "code",
   "execution_count": null,
   "id": "f2a52c88-1c82-475f-976b-bd5fbe5d4a3d",
   "metadata": {},
   "outputs": [],
   "source": [
    "## example mutable list,dict ,imutable - int float"
   ]
  }
 ],
 "metadata": {
  "kernelspec": {
   "display_name": "Python 3 (ipykernel)",
   "language": "python",
   "name": "python3"
  },
  "language_info": {
   "codemirror_mode": {
    "name": "ipython",
    "version": 3
   },
   "file_extension": ".py",
   "mimetype": "text/x-python",
   "name": "python",
   "nbconvert_exporter": "python",
   "pygments_lexer": "ipython3",
   "version": "3.10.8"
  }
 },
 "nbformat": 4,
 "nbformat_minor": 5
}
